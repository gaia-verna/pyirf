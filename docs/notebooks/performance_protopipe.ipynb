{
 "cells": [
  {
   "cell_type": "markdown",
   "metadata": {},
   "source": [
    "# Performance protopipe"
   ]
  },
  {
   "cell_type": "markdown",
   "metadata": {},
   "source": [
    "**Purpose of this notebook:**\n",
    "\n",
    "Open IRF and Sensitivity computed by pyirf from DL2 files produced by protopipe\n",
    "\n",
    "**Notes:**\n",
    "\n",
    "The following results correspond to:\n",
    "\n",
    "- La Palma site\n",
    "- Zd 20 deg, Az 180 deg\n",
    "- 50 h observation time"
   ]
  },
  {
   "cell_type": "markdown",
   "metadata": {},
   "source": [
    "## Table of contents\n",
    "\n",
    "* [Optimized cuts](#Optimized-cuts)\n",
    "    - [Direction cut](#Direction-cut)\n",
    "* [Differential sensitivity from cuts optimization](#Differential-sensitivity-from-cuts-optimization)\n",
    "* [IRFs](#IRFs)\n",
    "    - [Effective area](#Effective-area)\n",
    "    - [Point Spread Function](#Point-Spread-Function)\n",
    "        + [Angular resolution](#Angular-resolution)\n",
    "    - [Energy dispersion](#Energy-dispersion)\n",
    "        + [Energy resolution](#Energy-resolution)\n",
    "    - [Background rate](#Background-rate)"
   ]
  },
  {
   "cell_type": "markdown",
   "metadata": {
    "nbsphinx": "hidden"
   },
   "source": [
    "## Imports"
   ]
  },
  {
   "cell_type": "code",
   "execution_count": 13,
   "metadata": {},
   "outputs": [],
   "source": [
    "import os\n",
    "\n",
    "import numpy as np\n",
    "#import uproot\n",
    "from astropy.io import fits\n",
    "import astropy.units as u\n",
    "import matplotlib.pyplot as plt\n",
    "from astropy.table import QTable\n",
    "from matplotlib.ticker import ScalarFormatter\n",
    "from astropy.table import Table, Column\n",
    "from gammapy.irf import EffectiveAreaTable, EnergyDispersion2D\n",
    "from matplotlib import gridspec\n",
    "\n",
    "%matplotlib inline"
   ]
  },
  {
   "cell_type": "code",
   "execution_count": 14,
   "metadata": {},
   "outputs": [],
   "source": [
    "plt.rcParams['figure.figsize'] = (9, 6)"
   ]
  },
  {
   "cell_type": "markdown",
   "metadata": {},
   "source": [
    "## Functions"
   ]
  },
  {
   "cell_type": "code",
   "execution_count": 15,
   "metadata": {},
   "outputs": [],
   "source": [
    "def get_performance(filename):\n",
    "    \"\"\"\n",
    "    Load IRF, use Gammapy capabilities to handle the miragtion matrix\n",
    "    \"\"\"\n",
    "    with fits.open(filename, memmap=False) as hdulist:\n",
    "        aeff = EffectiveAreaTable.from_hdulist(hdulist=hdulist).to_table()\n",
    "        bkg = Table.read(hdulist[\"BACKGROUND\"])\n",
    "        psf = Table.read(hdulist[\"POINT SPREAD FUNCTION\"])\n",
    "        sens = Table.read(hdulist[\"SENSITIVITY\"])\n",
    "        edisp = EnergyDispersion2D.read(filename, hdu=\"ENERGY DISPERSION\")\n",
    "        rmf = edisp.to_energy_dispersion(offset=0.5 * u.deg)  # Projection of migration matrix, dummy angle...\n",
    "\n",
    "        try:  # Collection area without score/angular cut\n",
    "            aeff_no_cuts = Table.read(hdulist[\"SPECRESP (NO CUTS)\"])\n",
    "            aeff_angular_cut = Table.read(hdulist[\"SPECRESP (WITH ANGULAR CUT)\"])\n",
    "            aeff_score_cut = Table.read(hdulist[\"SPECRESP (WITH SCORE CUT)\"])\n",
    "\n",
    "            aeff_no_cuts.columns['SPECRESP (NO CUTS)'].name = 'SPECRESP'\n",
    "            aeff_angular_cut[\"SPECRESP (WITH ANGULAR CUT)\"].name = 'SPECRESP'\n",
    "            aeff_score_cut[\"SPECRESP (WITH SCORE CUT)\"].name = 'SPECRESP'\n",
    "        except:\n",
    "            pass\n",
    "\n",
    "    # Collection area without score/angular cut, that will be used to contain the IRF\n",
    "    perf = dict(aeff= aeff, bkg= bkg, psf= psf, rmf=rmf, sens=sens, edisp=edisp)\n",
    "\n",
    "    try:\n",
    "        perf['aeff_no_cuts'] = aeff_no_cuts\n",
    "        perf['aeff_angular_cut'] = aeff_angular_cut\n",
    "        perf['aeff_score_cut'] = aeff_score_cut\n",
    "    except:\n",
    "        pass\n",
    "\n",
    "    return perf"
   ]
  },
  {
   "cell_type": "code",
   "execution_count": 16,
   "metadata": {},
   "outputs": [],
   "source": [
    "def plot_table(t, colname, label, energy_range, **kwargs):\n",
    "    \"\"\"Simple function to plot an astropy table\"\"\"\n",
    "    centers = np.sqrt(t['ENERG_LO'] * t['ENERG_HI'])\n",
    "    bin_width = t['ENERG_HI'] - t['ENERG_LO']\n",
    "    err_plus = t['ENERG_HI'] - centers\n",
    "    err_minus = centers - t['ENERG_LO']\n",
    "    values = t[colname]\n",
    "\n",
    "    # Selection bins in the energy range\n",
    "    idx = np.where( (centers >= energy_range[0]) & (centers <= energy_range[-1]) )\n",
    "    plt.errorbar(centers[idx], values[idx], xerr=(err_minus[idx],err_plus[idx]), label=label, **kwargs)\n",
    "\n"
   ]
  },
  {
   "cell_type": "code",
   "execution_count": 17,
   "metadata": {},
   "outputs": [],
   "source": [
    "def plot_energy_response(rmf, label, energy_range, **kwargs):\n",
    "    \"\"\"Simple function to plot the energy resolution (Gammapy)\"\"\"\n",
    "    energy = rmf.e_true.nodes\n",
    "    bias = rmf.get_bias(energy)\n",
    "    resol = rmf.get_resolution(energy)\n",
    "\n",
    "    idx = np.where( (energy.value >= energy_range[0]) & (energy.value <= energy_range[-1]) )\n",
    "\n",
    "    plt.errorbar(energy.value[idx], bias[idx], **kwargs, ls='--')\n",
    "    plt.errorbar(energy.value[idx], resol[idx], label=label, **kwargs, ls='-')"
   ]
  },
  {
   "cell_type": "markdown",
   "metadata": {
    "nbsphinx": "hidden"
   },
   "source": [
    "## Input data"
   ]
  },
  {
   "cell_type": "markdown",
   "metadata": {},
   "source": [
    "## Requirements"
   ]
  },
  {
   "cell_type": "code",
   "execution_count": 18,
   "metadata": {},
   "outputs": [],
   "source": [
    "indir = '../../data/requirements'\n",
    "\n",
    "# Full array\n",
    "infiles = dict(\n",
    "    SENSITIVITY='/North-50h.dat',\n",
    "    ANGULAR_RESOLUTION='/North-50h-AngRes.dat',\n",
    "    ENERGY_RESOLUTION='/North-50h-ERes.dat',\n",
    "    #EFFECTIVE_AREA='North-50h-EffectiveArea.dat',\n",
    "    )\n",
    "requirements = dict()\n",
    "\n",
    "for key in infiles.keys():\n",
    "    requirements[key] = Table.read(indir + infiles[key], format='ascii')\n",
    "\n",
    "for key in infiles.keys():\n",
    "    requirements[key].add_column(Column(data=(10**requirements[key]['col1']), name='ENERGY'))\n",
    "    requirements[key].add_column(Column(data=requirements[key]['col2'], name=key))\n"
   ]
  },
  {
   "cell_type": "markdown",
   "metadata": {},
   "source": [
    "## MARS Performance"
   ]
  },
  {
   "cell_type": "code",
   "execution_count": 19,
   "metadata": {},
   "outputs": [
    {
     "ename": "TypeError",
     "evalue": "the Quantity implementation cannot handle <function digitize at 0x7fee39772320> with the given arguments.",
     "output_type": "error",
     "traceback": [
      "\u001b[0;31m---------------------------------------------------------------------------\u001b[0m",
      "\u001b[0;31mTypeError\u001b[0m                                 Traceback (most recent call last)",
      "\u001b[0;32m<ipython-input-19-48df9b4aa93d>\u001b[0m in \u001b[0;36m<module>\u001b[0;34m\u001b[0m\n\u001b[1;32m      7\u001b[0m \u001b[0mperf_mars_fullarray\u001b[0m \u001b[0;34m=\u001b[0m \u001b[0mdict\u001b[0m\u001b[0;34m(\u001b[0m\u001b[0;34m)\u001b[0m\u001b[0;34m\u001b[0m\u001b[0;34m\u001b[0m\u001b[0m\n\u001b[1;32m      8\u001b[0m \u001b[0;32mfor\u001b[0m \u001b[0mkey\u001b[0m \u001b[0;32min\u001b[0m \u001b[0mfilenames\u001b[0m\u001b[0;34m.\u001b[0m\u001b[0mkeys\u001b[0m\u001b[0;34m(\u001b[0m\u001b[0;34m)\u001b[0m\u001b[0;34m:\u001b[0m\u001b[0;34m\u001b[0m\u001b[0;34m\u001b[0m\u001b[0m\n\u001b[0;32m----> 9\u001b[0;31m     \u001b[0mperf_mars_fullarray\u001b[0m\u001b[0;34m[\u001b[0m\u001b[0mkey\u001b[0m\u001b[0;34m]\u001b[0m \u001b[0;34m=\u001b[0m \u001b[0mget_performance\u001b[0m\u001b[0;34m(\u001b[0m\u001b[0mos\u001b[0m\u001b[0;34m.\u001b[0m\u001b[0mpath\u001b[0m\u001b[0;34m.\u001b[0m\u001b[0mjoin\u001b[0m\u001b[0;34m(\u001b[0m\u001b[0mindir\u001b[0m\u001b[0;34m,\u001b[0m \u001b[0mfilenames\u001b[0m\u001b[0;34m[\u001b[0m\u001b[0mkey\u001b[0m\u001b[0;34m]\u001b[0m\u001b[0;34m)\u001b[0m\u001b[0;34m)\u001b[0m\u001b[0;34m\u001b[0m\u001b[0;34m\u001b[0m\u001b[0m\n\u001b[0m",
      "\u001b[0;32m<ipython-input-15-08b53e69040a>\u001b[0m in \u001b[0;36mget_performance\u001b[0;34m(filename)\u001b[0m\n\u001b[1;32m      9\u001b[0m         \u001b[0msens\u001b[0m \u001b[0;34m=\u001b[0m \u001b[0mTable\u001b[0m\u001b[0;34m.\u001b[0m\u001b[0mread\u001b[0m\u001b[0;34m(\u001b[0m\u001b[0mhdulist\u001b[0m\u001b[0;34m[\u001b[0m\u001b[0;34m\"SENSITIVITY\"\u001b[0m\u001b[0;34m]\u001b[0m\u001b[0;34m)\u001b[0m\u001b[0;34m\u001b[0m\u001b[0;34m\u001b[0m\u001b[0m\n\u001b[1;32m     10\u001b[0m         \u001b[0medisp\u001b[0m \u001b[0;34m=\u001b[0m \u001b[0mEnergyDispersion2D\u001b[0m\u001b[0;34m.\u001b[0m\u001b[0mread\u001b[0m\u001b[0;34m(\u001b[0m\u001b[0mfilename\u001b[0m\u001b[0;34m,\u001b[0m \u001b[0mhdu\u001b[0m\u001b[0;34m=\u001b[0m\u001b[0;34m\"ENERGY DISPERSION\"\u001b[0m\u001b[0;34m)\u001b[0m\u001b[0;34m\u001b[0m\u001b[0;34m\u001b[0m\u001b[0m\n\u001b[0;32m---> 11\u001b[0;31m         \u001b[0mrmf\u001b[0m \u001b[0;34m=\u001b[0m \u001b[0medisp\u001b[0m\u001b[0;34m.\u001b[0m\u001b[0mto_energy_dispersion\u001b[0m\u001b[0;34m(\u001b[0m\u001b[0moffset\u001b[0m\u001b[0;34m=\u001b[0m\u001b[0;36m0.5\u001b[0m \u001b[0;34m*\u001b[0m \u001b[0mu\u001b[0m\u001b[0;34m.\u001b[0m\u001b[0mdeg\u001b[0m\u001b[0;34m)\u001b[0m  \u001b[0;31m# Projection of migration matrix, dummy angle...\u001b[0m\u001b[0;34m\u001b[0m\u001b[0;34m\u001b[0m\u001b[0m\n\u001b[0m\u001b[1;32m     12\u001b[0m \u001b[0;34m\u001b[0m\u001b[0m\n\u001b[1;32m     13\u001b[0m         \u001b[0;32mtry\u001b[0m\u001b[0;34m:\u001b[0m  \u001b[0;31m# Collection area without score/angular cut\u001b[0m\u001b[0;34m\u001b[0m\u001b[0;34m\u001b[0m\u001b[0m\n",
      "\u001b[0;32m~/anaconda3/envs/pyirf/lib/python3.7/site-packages/gammapy/irf/energy_dispersion.py\u001b[0m in \u001b[0;36mto_energy_dispersion\u001b[0;34m(self, offset, e_true, e_reco)\u001b[0m\n\u001b[1;32m    834\u001b[0m         \u001b[0mdata\u001b[0m \u001b[0;34m=\u001b[0m \u001b[0;34m[\u001b[0m\u001b[0;34m]\u001b[0m\u001b[0;34m\u001b[0m\u001b[0;34m\u001b[0m\u001b[0m\n\u001b[1;32m    835\u001b[0m         \u001b[0;32mfor\u001b[0m \u001b[0menergy\u001b[0m \u001b[0;32min\u001b[0m \u001b[0me_true\u001b[0m\u001b[0;34m.\u001b[0m\u001b[0mlog_centers\u001b[0m\u001b[0;34m:\u001b[0m\u001b[0;34m\u001b[0m\u001b[0;34m\u001b[0m\u001b[0m\n\u001b[0;32m--> 836\u001b[0;31m             \u001b[0mvec\u001b[0m \u001b[0;34m=\u001b[0m \u001b[0mself\u001b[0m\u001b[0;34m.\u001b[0m\u001b[0mget_response\u001b[0m\u001b[0;34m(\u001b[0m\u001b[0moffset\u001b[0m\u001b[0;34m=\u001b[0m\u001b[0moffset\u001b[0m\u001b[0;34m,\u001b[0m \u001b[0me_true\u001b[0m\u001b[0;34m=\u001b[0m\u001b[0menergy\u001b[0m\u001b[0;34m,\u001b[0m \u001b[0me_reco\u001b[0m\u001b[0;34m=\u001b[0m\u001b[0me_reco\u001b[0m\u001b[0;34m)\u001b[0m\u001b[0;34m\u001b[0m\u001b[0;34m\u001b[0m\u001b[0m\n\u001b[0m\u001b[1;32m    837\u001b[0m             \u001b[0mdata\u001b[0m\u001b[0;34m.\u001b[0m\u001b[0mappend\u001b[0m\u001b[0;34m(\u001b[0m\u001b[0mvec\u001b[0m\u001b[0;34m)\u001b[0m\u001b[0;34m\u001b[0m\u001b[0;34m\u001b[0m\u001b[0m\n\u001b[1;32m    838\u001b[0m \u001b[0;34m\u001b[0m\u001b[0m\n",
      "\u001b[0;32m~/anaconda3/envs/pyirf/lib/python3.7/site-packages/gammapy/irf/energy_dispersion.py\u001b[0m in \u001b[0;36mget_response\u001b[0;34m(self, offset, e_true, e_reco, migra_step)\u001b[0m\n\u001b[1;32m    900\u001b[0m \u001b[0;34m\u001b[0m\u001b[0m\n\u001b[1;32m    901\u001b[0m         \u001b[0;31m# Determine positions (bin indices) of e_reco bounds in migration array\u001b[0m\u001b[0;34m\u001b[0m\u001b[0;34m\u001b[0m\u001b[0;34m\u001b[0m\u001b[0m\n\u001b[0;32m--> 902\u001b[0;31m         \u001b[0mpos_mig\u001b[0m \u001b[0;34m=\u001b[0m \u001b[0mnp\u001b[0m\u001b[0;34m.\u001b[0m\u001b[0mdigitize\u001b[0m\u001b[0;34m(\u001b[0m\u001b[0mmigra_e_reco\u001b[0m\u001b[0;34m,\u001b[0m \u001b[0mmig_array\u001b[0m\u001b[0;34m)\u001b[0m \u001b[0;34m-\u001b[0m \u001b[0;36m1\u001b[0m\u001b[0;34m\u001b[0m\u001b[0;34m\u001b[0m\u001b[0m\n\u001b[0m\u001b[1;32m    903\u001b[0m         \u001b[0;31m# We ensure that no negative values are found\u001b[0m\u001b[0;34m\u001b[0m\u001b[0;34m\u001b[0m\u001b[0;34m\u001b[0m\u001b[0m\n\u001b[1;32m    904\u001b[0m         \u001b[0mpos_mig\u001b[0m \u001b[0;34m=\u001b[0m \u001b[0mnp\u001b[0m\u001b[0;34m.\u001b[0m\u001b[0mmaximum\u001b[0m\u001b[0;34m(\u001b[0m\u001b[0mpos_mig\u001b[0m\u001b[0;34m,\u001b[0m \u001b[0;36m0\u001b[0m\u001b[0;34m)\u001b[0m\u001b[0;34m\u001b[0m\u001b[0;34m\u001b[0m\u001b[0m\n",
      "\u001b[0;32m<__array_function__ internals>\u001b[0m in \u001b[0;36mdigitize\u001b[0;34m(*args, **kwargs)\u001b[0m\n",
      "\u001b[0;32m~/anaconda3/envs/pyirf/lib/python3.7/site-packages/astropy/units/quantity.py\u001b[0m in \u001b[0;36m__array_function__\u001b[0;34m(self, function, types, args, kwargs)\u001b[0m\n\u001b[1;32m   1498\u001b[0m                 \u001b[0margs\u001b[0m\u001b[0;34m,\u001b[0m \u001b[0mkwargs\u001b[0m\u001b[0;34m,\u001b[0m \u001b[0munit\u001b[0m\u001b[0;34m,\u001b[0m \u001b[0mout\u001b[0m \u001b[0;34m=\u001b[0m \u001b[0mfunction_helper\u001b[0m\u001b[0;34m(\u001b[0m\u001b[0;34m*\u001b[0m\u001b[0margs\u001b[0m\u001b[0;34m,\u001b[0m \u001b[0;34m**\u001b[0m\u001b[0mkwargs\u001b[0m\u001b[0;34m)\u001b[0m\u001b[0;34m\u001b[0m\u001b[0;34m\u001b[0m\u001b[0m\n\u001b[1;32m   1499\u001b[0m             \u001b[0;32mexcept\u001b[0m \u001b[0mNotImplementedError\u001b[0m\u001b[0;34m:\u001b[0m\u001b[0;34m\u001b[0m\u001b[0;34m\u001b[0m\u001b[0m\n\u001b[0;32m-> 1500\u001b[0;31m                 \u001b[0;32mreturn\u001b[0m \u001b[0mself\u001b[0m\u001b[0;34m.\u001b[0m\u001b[0m_not_implemented_or_raise\u001b[0m\u001b[0;34m(\u001b[0m\u001b[0mfunction\u001b[0m\u001b[0;34m,\u001b[0m \u001b[0mtypes\u001b[0m\u001b[0;34m)\u001b[0m\u001b[0;34m\u001b[0m\u001b[0;34m\u001b[0m\u001b[0m\n\u001b[0m\u001b[1;32m   1501\u001b[0m \u001b[0;34m\u001b[0m\u001b[0m\n\u001b[1;32m   1502\u001b[0m             \u001b[0mresult\u001b[0m \u001b[0;34m=\u001b[0m \u001b[0msuper\u001b[0m\u001b[0;34m(\u001b[0m\u001b[0;34m)\u001b[0m\u001b[0;34m.\u001b[0m\u001b[0m__array_function__\u001b[0m\u001b[0;34m(\u001b[0m\u001b[0mfunction\u001b[0m\u001b[0;34m,\u001b[0m \u001b[0mtypes\u001b[0m\u001b[0;34m,\u001b[0m \u001b[0margs\u001b[0m\u001b[0;34m,\u001b[0m \u001b[0mkwargs\u001b[0m\u001b[0;34m)\u001b[0m\u001b[0;34m\u001b[0m\u001b[0;34m\u001b[0m\u001b[0m\n",
      "\u001b[0;32m~/anaconda3/envs/pyirf/lib/python3.7/site-packages/astropy/units/quantity.py\u001b[0m in \u001b[0;36m_not_implemented_or_raise\u001b[0;34m(self, function, types)\u001b[0m\n\u001b[1;32m   1544\u001b[0m             raise TypeError(\"the Quantity implementation cannot handle {} \"\n\u001b[1;32m   1545\u001b[0m                             \u001b[0;34m\"with the given arguments.\"\u001b[0m\u001b[0;34m\u001b[0m\u001b[0;34m\u001b[0m\u001b[0m\n\u001b[0;32m-> 1546\u001b[0;31m                             .format(function)) from None\n\u001b[0m\u001b[1;32m   1547\u001b[0m         \u001b[0;32melse\u001b[0m\u001b[0;34m:\u001b[0m\u001b[0;34m\u001b[0m\u001b[0;34m\u001b[0m\u001b[0m\n\u001b[1;32m   1548\u001b[0m             \u001b[0;32mreturn\u001b[0m \u001b[0mNotImplemented\u001b[0m\u001b[0;34m\u001b[0m\u001b[0;34m\u001b[0m\u001b[0m\n",
      "\u001b[0;31mTypeError\u001b[0m: the Quantity implementation cannot handle <function digitize at 0x7fee39772320> with the given arguments."
     ]
    }
   ],
   "source": [
    "indir = '../../data/MARS_Analysis/point-like/LaPalma_20_South/'\n",
    "indir = os.path.expandvars(indir)\n",
    "\n",
    "filenames = {\n",
    "    '50h': 'CTA-Performance-North-20deg-S-onaxis-50h_20170627.fits.gz'\n",
    "}\n",
    "perf_mars_fullarray = dict()\n",
    "for key in filenames.keys():\n",
    "    perf_mars_fullarray[key] = get_performance(os.path.join(indir, filenames[key]))"
   ]
  },
  {
   "cell_type": "markdown",
   "metadata": {
    "nbsphinx": "hidden"
   },
   "source": [
    "## _pyirf_"
   ]
  },
  {
   "cell_type": "markdown",
   "metadata": {},
   "source": [
    "The following is the current IRF + sensititivy output FITS format provided by this software.\n",
    "\n",
    "Run `python examples/calculate_protopipe_irfs.py` after downloading the data"
   ]
  },
  {
   "cell_type": "code",
   "execution_count": 20,
   "metadata": {},
   "outputs": [],
   "source": [
    "pyirf_file = '../../pyirf_protopipe.fits.gz'"
   ]
  },
  {
   "cell_type": "markdown",
   "metadata": {},
   "source": [
    "## Optimized cuts\n",
    "[back to top](#Table-of-contents)"
   ]
  },
  {
   "cell_type": "markdown",
   "metadata": {},
   "source": [
    "### Direction cut\n",
    "[back to top](#Table-of-contents)"
   ]
  },
  {
   "cell_type": "code",
   "execution_count": 21,
   "metadata": {},
   "outputs": [
    {
     "data": {
      "image/png": "[encoded data removed]",
      "text/plain": [
       "<Figure size 648x432 with 1 Axes>"
      ]
     },
     "metadata": {
      "needs_background": "light"
     },
     "output_type": "display_data"
    }
   ],
   "source": [
    "from astropy.table import QTable\n",
    "\n",
    "\n",
    "rad_max = QTable.read(pyirf_file, hdu='RAD_MAX')[0]\n",
    "\n",
    "plt.errorbar(\n",
    "    0.5 * (rad_max['ENERG_LO'] + rad_max['ENERG_HI'])[1:-1].to_value(u.TeV),\n",
    "    rad_max['RAD_MAX'].T[1:-1, 0].to_value(u.deg),\n",
    "    xerr=0.5 * (rad_max['ENERG_HI'] - rad_max['ENERG_LO'])[1:-1].to_value(u.TeV),\n",
    "    ls='',\n",
    "    label='pyirf',\n",
    ")\n",
    "\n",
    "plt.legend()\n",
    "plt.ylabel('θ-cut / deg²')\n",
    "plt.xlabel(r'$E_\\mathrm{reco} / \\mathrm{TeV}$')\n",
    "plt.xscale('log')\n",
    "\n",
    "None # to remove clutter by mpl objects"
   ]
  },
  {
   "cell_type": "code",
   "execution_count": 22,
   "metadata": {},
   "outputs": [
    {
     "data": {
      "image/png": "[encoded data removed]",
      "text/plain": [
       "<Figure size 648x432 with 1 Axes>"
      ]
     },
     "metadata": {
      "needs_background": "light"
     },
     "output_type": "display_data"
    }
   ],
   "source": [
    "from astropy.table import QTable\n",
    "\n",
    "\n",
    "gh_cut = QTable.read(pyirf_file, hdu='GH_CUTS')[1:-1]\n",
    "\n",
    "\n",
    "plt.errorbar(\n",
    "    0.5 * (gh_cut['low'] + gh_cut['high']).to_value(u.TeV),\n",
    "    gh_cut['cut'],\n",
    "    xerr=0.5 * (gh_cut['high'] - gh_cut['low']).to_value(u.TeV),\n",
    "    ls='',\n",
    "    label='pyirf',\n",
    ")\n",
    "\n",
    "plt.legend()\n",
    "plt.ylabel('G/H-cut')\n",
    "plt.xlabel(r'$E_\\mathrm{reco} / \\mathrm{TeV}$')\n",
    "plt.xscale('log')\n",
    "\n",
    "None # to remove clutter by mpl objects"
   ]
  },
  {
   "cell_type": "markdown",
   "metadata": {},
   "source": [
    "## Differential sensitivity from cuts optimization\n",
    "[back to top](#Table-of-contents)"
   ]
  },
  {
   "cell_type": "code",
   "execution_count": 23,
   "metadata": {},
   "outputs": [
    {
     "data": {
      "text/html": [
       "<i>QTable length=21</i>\n",
       "<table id=\"table140660612256400\" class=\"table-striped table-bordered table-condensed\">\n",
       "<thead><tr><th>reco_energy_low</th><th>reco_energy_high</th><th>reco_energy_center</th><th>n_signal</th><th>n_background</th><th>n_signal_weighted</th><th>n_background_weighted</th><th>failed_checks</th><th>relative_sensitivity</th><th>flux_sensitivity</th></tr></thead>\n",
       "<thead><tr><th>TeV</th><th>TeV</th><th>TeV</th><th></th><th></th><th></th><th></th><th></th><th></th><th>1 / (cm2 s TeV)</th></tr></thead>\n",
       "<thead><tr><th>float64</th><th>float64</th><th>float64</th><th>float64</th><th>float64</th><th>float64</th><th>float64</th><th>int64</th><th>float64</th><th>float64</th></tr></thead>\n",
       "<tr><td>0.0126</td><td>0.02</td><td>0.0163</td><td>71.6</td><td>1.5</td><td>140.2</td><td>3011.7</td><td>4</td><td>nan</td><td>nan</td></tr>\n",
       "<tr><td>0.02</td><td>0.0316</td><td>0.0258</td><td>49.3</td><td>1.9</td><td>63.4</td><td>554.4</td><td>0</td><td>0.045</td><td>1.86e-08</td></tr>\n",
       "<tr><td>0.0316</td><td>0.0501</td><td>0.0409</td><td>502.2</td><td>97.2</td><td>508.9</td><td>42174.2</td><td>0</td><td>0.01</td><td>1.28e-09</td></tr>\n",
       "<tr><td>0.0501</td><td>0.0794</td><td>0.0648</td><td>139.1</td><td>8.7</td><td>99.6</td><td>1465.5</td><td>0</td><td>0.025</td><td>9.04e-10</td></tr>\n",
       "<tr><td>0.0794</td><td>0.126</td><td>0.103</td><td>213.8</td><td>16.3</td><td>119.1</td><td>2139.5</td><td>0</td><td>0.014</td><td>1.52e-10</td></tr>\n",
       "<tr><td>0.126</td><td>0.2</td><td>0.163</td><td>676.6</td><td>111.5</td><td>291.9</td><td>13637.9</td><td>0</td><td>0.008</td><td>2.62e-11</td></tr>\n",
       "<tr><td>0.2</td><td>0.316</td><td>0.258</td><td>921.5</td><td>160.9</td><td>284.9</td><td>12983.8</td><td>0</td><td>0.0093</td><td>9.14e-12</td></tr>\n",
       "<tr><td>0.316</td><td>0.501</td><td>0.409</td><td>765.3</td><td>106.8</td><td>176.2</td><td>4839.2</td><td>0</td><td>0.0097</td><td>2.87e-12</td></tr>\n",
       "<tr><td>0.501</td><td>0.794</td><td>0.648</td><td>400.0</td><td>37.7</td><td>68.7</td><td>660.3</td><td>0</td><td>0.0094</td><td>8.33e-13</td></tr>\n",
       "<tr><td>0.794</td><td>1.26</td><td>1.03</td><td>477.7</td><td>47.3</td><td>62.0</td><td>526.7</td><td>0</td><td>0.011</td><td>2.87e-13</td></tr>\n",
       "<tr><td>1.26</td><td>2</td><td>1.63</td><td>458.6</td><td>35.8</td><td>44.8</td><td>253.9</td><td>0</td><td>0.013</td><td>1.01e-13</td></tr>\n",
       "<tr><td>2</td><td>3.16</td><td>2.58</td><td>521.2</td><td>37.2</td><td>38.4</td><td>178.1</td><td>0</td><td>0.018</td><td>4.32e-14</td></tr>\n",
       "<tr><td>3.16</td><td>5.01</td><td>4.09</td><td>543.7</td><td>29.1</td><td>30.3</td><td>100.3</td><td>0</td><td>0.028</td><td>1.98e-14</td></tr>\n",
       "<tr><td>5.01</td><td>7.94</td><td>6.48</td><td>798.9</td><td>34.6</td><td>33.7</td><td>130.6</td><td>0</td><td>0.05</td><td>1.06e-14</td></tr>\n",
       "<tr><td>7.94</td><td>12.6</td><td>10.3</td><td>1145.2</td><td>33.2</td><td>36.6</td><td>158.3</td><td>0</td><td>0.12</td><td>7.71e-15</td></tr>\n",
       "<tr><td>12.6</td><td>20</td><td>16.3</td><td>19377.6</td><td>564.8</td><td>458.4</td><td>34130.6</td><td>4</td><td>nan</td><td>nan</td></tr>\n",
       "<tr><td>20</td><td>31.6</td><td>25.8</td><td>20463.2</td><td>449.5</td><td>363.2</td><td>21289.7</td><td>4</td><td>nan</td><td>nan</td></tr>\n",
       "<tr><td>31.6</td><td>50.1</td><td>40.9</td><td>19749.6</td><td>251.5</td><td>262.2</td><td>10958.7</td><td>4</td><td>nan</td><td>nan</td></tr>\n",
       "<tr><td>50.1</td><td>79.4</td><td>64.8</td><td>20658.9</td><td>160.1</td><td>206.2</td><td>6695.5</td><td>4</td><td>nan</td><td>nan</td></tr>\n",
       "<tr><td>79.4</td><td>126</td><td>103</td><td>20959.0</td><td>109.5</td><td>157.4</td><td>3830.6</td><td>4</td><td>nan</td><td>nan</td></tr>\n",
       "<tr><td>126</td><td>200</td><td>163</td><td>18658.0</td><td>59.7</td><td>102.7</td><td>1563.7</td><td>4</td><td>nan</td><td>nan</td></tr>\n",
       "</table>"
      ],
      "text/plain": [
       "<QTable length=21>\n",
       "reco_energy_low reco_energy_high ... relative_sensitivity flux_sensitivity\n",
       "      TeV             TeV        ...                      1 / (cm2 s TeV) \n",
       "    float64         float64      ...       float64            float64     \n",
       "--------------- ---------------- ... -------------------- ----------------\n",
       "         0.0126             0.02 ...                  nan              nan\n",
       "           0.02           0.0316 ...                0.045         1.86e-08\n",
       "         0.0316           0.0501 ...                 0.01         1.28e-09\n",
       "         0.0501           0.0794 ...                0.025         9.04e-10\n",
       "         0.0794            0.126 ...                0.014         1.52e-10\n",
       "          0.126              0.2 ...                0.008         2.62e-11\n",
       "            0.2            0.316 ...               0.0093         9.14e-12\n",
       "          0.316            0.501 ...               0.0097         2.87e-12\n",
       "          0.501            0.794 ...               0.0094         8.33e-13\n",
       "          0.794             1.26 ...                0.011         2.87e-13\n",
       "           1.26                2 ...                0.013         1.01e-13\n",
       "              2             3.16 ...                0.018         4.32e-14\n",
       "           3.16             5.01 ...                0.028         1.98e-14\n",
       "           5.01             7.94 ...                 0.05         1.06e-14\n",
       "           7.94             12.6 ...                 0.12         7.71e-15\n",
       "           12.6               20 ...                  nan              nan\n",
       "             20             31.6 ...                  nan              nan\n",
       "           31.6             50.1 ...                  nan              nan\n",
       "           50.1             79.4 ...                  nan              nan\n",
       "           79.4              126 ...                  nan              nan\n",
       "            126              200 ...                  nan              nan"
      ]
     },
     "execution_count": 23,
     "metadata": {},
     "output_type": "execute_result"
    }
   ],
   "source": [
    "# [1:-1] removes under/overflow bins\n",
    "sensitivity = QTable.read(pyirf_file, hdu='SENSITIVITY')[1:-1]\n",
    "\n",
    "# make it print nice\n",
    "sensitivity['reco_energy_low'].info.format = '.3g'\n",
    "sensitivity['reco_energy_high'].info.format = '.3g'\n",
    "sensitivity['reco_energy_center'].info.format = '.3g'\n",
    "sensitivity['n_signal'].info.format = '.1f'\n",
    "sensitivity['n_signal_weighted'].info.format = '.1f'\n",
    "sensitivity['n_background_weighted'].info.format = '.1f'\n",
    "sensitivity['n_background'].info.format = '.1f'\n",
    "sensitivity['relative_sensitivity'].info.format = '.2g'\n",
    "sensitivity['flux_sensitivity'].info.format = '.3g'\n",
    "\n",
    "\n",
    "sensitivity"
   ]
  },
  {
   "cell_type": "code",
   "execution_count": 24,
   "metadata": {},
   "outputs": [
    {
     "data": {
      "image/png": "[encoded data removed]",
      "text/plain": [
       "<Figure size 864x576 with 1 Axes>"
      ]
     },
     "metadata": {
      "needs_background": "light"
     },
     "output_type": "display_data"
    }
   ],
   "source": [
    "plt.figure(figsize=(12,8))\n",
    "\n",
    "# pyirf\n",
    "unit = u.Unit('erg cm-2 s-1')\n",
    "e = sensitivity['reco_energy_center']\n",
    "s = (e**2 * sensitivity['flux_sensitivity'])\n",
    "w = (sensitivity['reco_energy_high'] - sensitivity['reco_energy_low'])\n",
    "plt.errorbar(\n",
    "    e.to_value(u.TeV),\n",
    "    s.to_value(unit),\n",
    "    xerr=w.to_value(u.TeV) / 2,\n",
    "    ls='',\n",
    "    label='pyirf'\n",
    ")\n",
    "\n",
    "# Requirements\n",
    "plt.plot(requirements['SENSITIVITY']['ENERGY'],\n",
    "             requirements['SENSITIVITY']['SENSITIVITY'],\n",
    "             color='black',\n",
    "             ls='--',\n",
    "             lw=2,\n",
    "             label='Requirements')\n",
    "\n",
    "# Style settings\n",
    "plt.title('Minimal Flux Needed for 5σ Detection in 50 hours')\n",
    "plt.xscale(\"log\")\n",
    "plt.yscale(\"log\")\n",
    "plt.ylabel(rf\"$(E^2 \\cdot \\mathrm{{Flux Sensitivity}}) /$ ({unit.to_string('latex')})\")\n",
    "\n",
    "plt.grid(which=\"both\")\n",
    "plt.legend()\n",
    "\n",
    "None # to remove clutter by mpl objects"
   ]
  },
  {
   "cell_type": "markdown",
   "metadata": {},
   "source": [
    "## IRFs\n",
    "[back to top](#Table-of-contents)"
   ]
  },
  {
   "cell_type": "markdown",
   "metadata": {},
   "source": [
    "### Effective area\n",
    "[back to top](#Table-of-contents)"
   ]
  },
  {
   "cell_type": "code",
   "execution_count": null,
   "metadata": {},
   "outputs": [],
   "source": [
    "# Data pyirf\n",
    "for name in ('', '_NO_CUTS', '_ONLY_GH', '_ONLY_THETA'):\n",
    "\n",
    "    area = QTable.read(pyirf_file, hdu='EFFECTIVE_AREA' + name)[0]\n",
    "\n",
    "    \n",
    "    plt.errorbar(\n",
    "        0.5 * (area['ENERG_LO'] + area['ENERG_HI']).to_value(u.TeV)[1:-1],\n",
    "        area['EFFAREA'].to_value(u.m**2).T[1:-1, 0],\n",
    "        xerr=0.5 * (area['ENERG_LO'] - area['ENERG_HI']).to_value(u.TeV)[1:-1],\n",
    "        ls='',\n",
    "        label='pyirf ' + name,\n",
    "    )\n",
    "\n",
    "# Reference data: MARS\n",
    "plot_table(\n",
    "    perf_mars_fullarray['50h']['aeff'], \n",
    "    'SPECRESP', label='MARS', \n",
    "    energy_range =[0.01, 51.], \n",
    "    **{'color': 'darkblue', 'lw': 2})\n",
    "\n",
    "# Style settings\n",
    "plt.xscale(\"log\")\n",
    "plt.yscale(\"log\")\n",
    "plt.xlabel(\"True energy / TeV\")\n",
    "plt.ylabel(\"Effective collection area / m²\")\n",
    "plt.grid(which=\"both\")\n",
    "plt.legend()\n",
    "\n",
    "None # to remove clutter by mpl objects"
   ]
  },
  {
   "cell_type": "markdown",
   "metadata": {},
   "source": [
    "### Point Spread Function\n",
    "[back to top](#Table-of-contents)"
   ]
  },
  {
   "cell_type": "code",
   "execution_count": null,
   "metadata": {},
   "outputs": [],
   "source": [
    "psf_table"
   ]
  },
  {
   "cell_type": "code",
   "execution_count": null,
   "metadata": {},
   "outputs": [],
   "source": [
    "psf_table = QTable.read(pyirf_file, hdu='PSF')[0]\n",
    "# select the only fov offset bin\n",
    "psf = psf_table['RPSF'].T[:, 0, :].to_value(1 / u.sr)\n",
    "\n",
    "offset_bins = np.append(psf_table['RAD_LO'], psf_table['RAD_HI'][-1])\n",
    "phi_bins = np.linspace(0, 2 * np.pi, 100)\n",
    "\n",
    "\n",
    "\n",
    "# Let's make a nice 2d representation of the radially symmetric PSF\n",
    "r, phi = np.meshgrid(offset_bins.to_value(u.deg), phi_bins)\n",
    "\n",
    "# look at a single energy bin\n",
    "# repeat values for each phi bin\n",
    "center = 0.5 * (psf_table['ENERG_LO'] + psf_table['ENERG_HI'])\n",
    "\n",
    "\n",
    "fig = plt.figure(figsize=(15, 5))\n",
    "axs = [fig.add_subplot(1, 3, i, projection='polar') for i in range(1, 4)]\n",
    "\n",
    "\n",
    "for bin_id, ax in zip([10, 20, 30], axs):\n",
    "    image = np.tile(psf[bin_id], (len(phi_bins) - 1, 1))\n",
    "    \n",
    "    ax.set_title(f'PSF @ {center[bin_id]:.2f} TeV')\n",
    "    ax.pcolormesh(phi, r, image)\n",
    "    ax.set_ylim(0, 0.25)\n",
    "    ax.set_aspect(1)\n",
    "    \n",
    "fig.tight_layout()\n",
    "\n",
    "None # to remove clutter by mpl objects"
   ]
  },
  {
   "cell_type": "code",
   "execution_count": null,
   "metadata": {},
   "outputs": [],
   "source": [
    "# Profile\n",
    "center = 0.5 * (offset_bins[1:] + offset_bins[:-1])\n",
    "xerr = 0.5 * (offset_bins[1:] - offset_bins[:-1])\n",
    "\n",
    "for bin_id in [10, 20, 30]:\n",
    "    plt.errorbar(\n",
    "        center.to_value(u.deg),\n",
    "        psf[bin_id],\n",
    "        xerr=xerr.to_value(u.deg),\n",
    "        ls='',\n",
    "        label=f'Energy Bin {bin_id}'\n",
    "    )\n",
    "    \n",
    "#plt.yscale('log')\n",
    "plt.legend()\n",
    "plt.xlim(0, 0.25)\n",
    "plt.ylabel('PSF PDF / sr⁻¹')\n",
    "plt.xlabel('Distance from True Source / deg')\n",
    "\n",
    "None # to remove clutter by mpl objects"
   ]
  },
  {
   "cell_type": "markdown",
   "metadata": {},
   "source": [
    "#### Angular resolution\n",
    "[back to top](#Table-of-contents)"
   ]
  },
  {
   "cell_type": "code",
   "execution_count": null,
   "metadata": {},
   "outputs": [],
   "source": [
    "# pyirf\n",
    "ang_res = QTable.read(pyirf_file, hdu='ANGULAR_RESOLUTION')[1:-1]\n",
    "\n",
    "plt.errorbar(\n",
    "    0.5 * (ang_res['true_energy_low'] + ang_res['true_energy_high']).to_value(u.TeV),\n",
    "    ang_res['angular_resolution'].to_value(u.deg),\n",
    "    xerr=0.5 * (ang_res['true_energy_high'] - ang_res['true_energy_low']).to_value(u.TeV),\n",
    "    ls='',\n",
    "    label='pyirf'\n",
    ")\n",
    "\n",
    "# Style settings\n",
    "plt.xlim(1.e-2, 2.e2)\n",
    "plt.ylim(2.e-2, 1)\n",
    "plt.xscale(\"log\")\n",
    "plt.yscale(\"log\")\n",
    "plt.xlabel(\"True energy / TeV\")\n",
    "plt.ylabel(\"Angular Resolution / deg\")\n",
    "plt.grid(which=\"both\")\n",
    "plt.legend(loc=\"best\")\n",
    "\n",
    "None # to remove clutter by mpl objects"
   ]
  },
  {
   "cell_type": "code",
   "execution_count": null,
   "metadata": {},
   "outputs": [],
   "source": [
    "# pyirf\n",
    "# Vorrei la PSF i funzione dell'energia ricostruita\n",
    "ang_res = QTable.read(pyirf_file, hdu='ANGULAR_RESOLUTION')[1:-1]\n",
    "\n",
    "plt.errorbar(\n",
    "    0.5 * (ang_res['true_energy_low'] + ang_res['true_energy_high']).to_value(u.TeV),\n",
    "    ang_res['angular_resolution'].to_value(u.deg),\n",
    "    xerr=0.5 * (ang_res['true_energy_high'] - ang_res['true_energy_low']).to_value(u.TeV),\n",
    "    ls='',\n",
    "    label='pyirf'\n",
    ")\n",
    "\n",
    "# Reference data: MARS\n",
    "plot_table(\n",
    "    perf_mars_fullarray['50h']['psf'], \n",
    "    'PSF68', label='MARS', \n",
    "    energy_range =[0.01, 51.], \n",
    "    **{'color': 'darkblue', 'lw': 2})\n",
    "\n",
    "\n",
    "# Requirements\n",
    "plt.plot(requirements['ANGULAR_RESOLUTION']['ENERGY'],\n",
    "             requirements['ANGULAR_RESOLUTION']['ANGULAR_RESOLUTION'],\n",
    "             color='black',\n",
    "             ls='--',\n",
    "             lw=2,\n",
    "             label='Requirements')\n",
    "\n",
    "\n",
    "\n",
    "# Style settings\n",
    "plt.xlim(1.e-2, 2.e2)\n",
    "plt.ylim(2.e-2, 1)\n",
    "plt.xscale(\"log\")\n",
    "plt.yscale(\"log\")\n",
    "plt.xlabel(\"True energy / TeV\")\n",
    "plt.ylabel(\"Angular Resolution / deg\")\n",
    "plt.grid(which=\"both\")\n",
    "plt.legend(loc=\"best\")\n",
    "\n",
    "\n",
    "\n",
    "None # to remove clutter by mpl objects"
   ]
  },
  {
   "cell_type": "markdown",
   "metadata": {},
   "source": [
    "### Energy dispersion\n",
    "[back to top](#Table-of-contents)"
   ]
  },
  {
   "cell_type": "code",
   "execution_count": null,
   "metadata": {},
   "outputs": [],
   "source": [
    "edisp = QTable.read(pyirf_file, hdu='ENERGY_DISPERSION')[0]\n",
    "\n",
    "e_bins = edisp['ENERG_LO'][1:]\n",
    "migra_bins = edisp['MIGRA_LO'][1:]\n",
    "\n",
    "plt.title('pyirf')\n",
    "plt.pcolormesh(e_bins.to_value(u.TeV), migra_bins, edisp['MATRIX'].T[1:-1, 1:-1, 0].T, cmap='inferno')\n",
    "\n",
    "plt.xscale('log')\n",
    "plt.yscale('log')\n",
    "plt.colorbar(label='PDF Value')\n",
    "\n",
    "plt.xlabel(r'$E_\\mathrm{True} / \\mathrm{TeV}$')\n",
    "plt.ylabel(r'$E_\\mathrm{Reco} / E_\\mathrm{True}$')\n",
    "\n",
    "None # to remove clutter by mpl objects"
   ]
  },
  {
   "cell_type": "markdown",
   "metadata": {},
   "source": [
    "#### Energy resolution\n",
    "[back to top](#Table-of-contents)"
   ]
  },
  {
   "cell_type": "code",
   "execution_count": null,
   "metadata": {},
   "outputs": [],
   "source": [
    "perf_mars_fullarray['50h']['edisp']"
   ]
  },
  {
   "cell_type": "code",
   "execution_count": null,
   "metadata": {},
   "outputs": [],
   "source": [
    "# pyirf\n",
    "bias_resolution = QTable.read(pyirf_file, hdu='ENERGY_BIAS_RESOLUTION')[1:-1]\n",
    "\n",
    "plt.errorbar(\n",
    "    0.5 * (bias_resolution['true_energy_low'] + bias_resolution['true_energy_high']).to_value(u.TeV),\n",
    "    bias_resolution['resolution'],\n",
    "    xerr=0.5 * (bias_resolution['true_energy_high'] - bias_resolution['true_energy_low']).to_value(u.TeV),\n",
    "    ls='',\n",
    "    label='pyirf'\n",
    ")\n",
    "plt.xscale('log')\n",
    "\n",
    "# Requirements\n",
    "plt.plot(requirements['ENERGY_RESOLUTION']['ENERGY'],\n",
    "             requirements['ENERGY_RESOLUTION']['ENERGY_RESOLUTION'],\n",
    "             color='black',\n",
    "             ls='--',\n",
    "             lw=2,\n",
    "             label='Requirements')\n",
    "\n",
    "# Reference data: MARS\n",
    "plot_energy_response(\n",
    "    perf_mars_fullarray['50h']['rmf'], \n",
    "    label='MARS', \n",
    "    energy_range =[0.01, 51.], \n",
    "    **{'color': 'darkblue', 'lw': 2})\n",
    "\n",
    "# Style settings\n",
    "plt.xlabel(r\"$E_\\mathrm{True} / \\mathrm{TeV}$\")\n",
    "plt.ylabel(\"Energy resolution\")\n",
    "plt.grid(which=\"both\")\n",
    "plt.legend(loc=\"best\")\n",
    "\n",
    "None # to remove clutter by mpl objects"
   ]
  },
  {
   "cell_type": "markdown",
   "metadata": {},
   "source": [
    "### Background rate\n",
    "[back to top](#Table-of-contents)"
   ]
  },
  {
   "cell_type": "code",
   "execution_count": null,
   "metadata": {},
   "outputs": [],
   "source": [
    "from pyirf.utils import cone_solid_angle\n",
    "\n",
    "# pyirf data\n",
    "bg_rate = QTable.read(pyirf_file, hdu='BACKGROUND')[0]\n",
    "\n",
    "reco_bins = np.append(bg_rate['ENERG_LO'], bg_rate['ENERG_HI'][-1])\n",
    "\n",
    "# first fov bin, [0, 1] deg\n",
    "fov_bin = 0\n",
    "rate_bin = bg_rate['BKG'].T[:, fov_bin]\n",
    "\n",
    "# interpolate theta cut for given e reco bin\n",
    "e_center_bg = 0.5 * (bg_rate['ENERG_LO'] + bg_rate['ENERG_HI'])\n",
    "e_center_theta = 0.5 * (rad_max['ENERG_LO'] + rad_max['ENERG_HI'])\n",
    "theta_cut = np.interp(e_center_bg, e_center_theta, rad_max['RAD_MAX'].T[:, 0])\n",
    "\n",
    "# undo normalization\n",
    "rate_bin *= cone_solid_angle(theta_cut)\n",
    "rate_bin *= np.diff(reco_bins)\n",
    "\n",
    "\n",
    "# Plot function\n",
    "plt.errorbar(x, y, xerr=xerr, yerr=yerr, ls='', label=\"EventDisplay\")\n",
    "plt.errorbar(\n",
    "    0.5 * (bg_rate['ENERG_LO'] + bg_rate['ENERG_HI']).to_value(u.TeV)[1:-1],\n",
    "    rate_bin.to_value(1 / u.s)[1:-1],\n",
    "    xerr=np.diff(reco_bins).to_value(u.TeV)[1:-1] / 2,\n",
    "    ls='',\n",
    "    label='pyirf',\n",
    ")\n",
    "\n",
    "# Reference data: MARS\n",
    "plot_table(\n",
    "    perf_mars_fullarray['50h']['bkg'], \n",
    "    'BGD', \n",
    "    label='MARS', \n",
    "    energy_range =[0.01, 51.], \n",
    "    **{'color': 'darkblue', 'lw': 2})\n",
    "\n",
    "# Style settings\n",
    "plt.xscale(\"log\")\n",
    "plt.xlabel(r\"$E_\\mathrm{Reco} / \\mathrm{TeV}$\")\n",
    "plt.ylabel(\"Background rate / (s⁻¹ TeV⁻¹) \")\n",
    "plt.grid(which=\"both\")\n",
    "plt.legend(loc=\"best\")\n",
    "plt.yscale('log')\n",
    "\n",
    "None # to remove clutter by mpl objects"
   ]
  },
  {
   "cell_type": "code",
   "execution_count": null,
   "metadata": {},
   "outputs": [],
   "source": [
    "import sys \n",
    "  \n",
    "# printing all directories for  \n",
    "# interpreter to search \n",
    "sys.path"
   ]
  },
  {
   "cell_type": "code",
   "execution_count": null,
   "metadata": {},
   "outputs": [],
   "source": []
  }
 ],
 "metadata": {
  "kernelspec": {
   "display_name": "Python 3",
   "language": "python",
   "name": "python3"
  },
  "language_info": {
   "codemirror_mode": {
    "name": "ipython",
    "version": 3
   },
   "file_extension": ".py",
   "mimetype": "text/x-python",
   "name": "python",
   "nbconvert_exporter": "python",
   "pygments_lexer": "ipython3",
   "version": "3.7.9"
  }
 },
 "nbformat": 4,
 "nbformat_minor": 4
}
