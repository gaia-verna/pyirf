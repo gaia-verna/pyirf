{
 "cells": [
  {
   "cell_type": "markdown",
   "metadata": {},
   "source": [
    "# Performance protopipe"
   ]
  },
  {
   "cell_type": "markdown",
   "metadata": {},
   "source": [
    "**Purpose of this notebook:**\n",
    "\n",
    "Open IRF and Sensitivity computed by pyirf from DL2 files produced by protopipe\n",
    "\n",
    "**Notes:**\n",
    "\n",
    "The following results correspond to:\n",
    "\n",
    "- La Palma site\n",
    "- Zd 20 deg, Az 180 deg\n",
    "- 50 h observation time"
   ]
  },
  {
   "cell_type": "markdown",
   "metadata": {},
   "source": [
    "## Table of contents\n",
    "\n",
    "* [Optimized cuts](#Optimized-cuts)\n",
    "    - [Direction cut](#Direction-cut)\n",
    "* [Differential sensitivity from cuts optimization](#Differential-sensitivity-from-cuts-optimization)\n",
    "* [IRFs](#IRFs)\n",
    "    - [Effective area](#Effective-area)\n",
    "    - [Point Spread Function](#Point-Spread-Function)\n",
    "        + [Angular resolution](#Angular-resolution)\n",
    "    - [Energy dispersion](#Energy-dispersion)\n",
    "        + [Energy resolution](#Energy-resolution)\n",
    "    - [Background rate](#Background-rate)"
   ]
  },
  {
   "cell_type": "markdown",
   "metadata": {
    "nbsphinx": "hidden"
   },
   "source": [
    "## Imports"
   ]
  },
  {
   "cell_type": "code",
   "execution_count": null,
   "metadata": {},
   "outputs": [],
   "source": [
    "import os\n",
    "\n",
    "import numpy as np\n",
    "#import uproot\n",
    "from astropy.io import fits\n",
    "import astropy.units as u\n",
    "import matplotlib.pyplot as plt\n",
    "from astropy.table import QTable\n",
    "from matplotlib.ticker import ScalarFormatter\n",
    "from astropy.table import Table, Column\n",
    "from gammapy.irf import EffectiveAreaTable, EnergyDispersion2D\n",
    "from matplotlib import gridspec\n",
    "\n",
    "%matplotlib inline"
   ]
  },
  {
   "cell_type": "code",
   "execution_count": null,
   "metadata": {},
   "outputs": [],
   "source": [
    "plt.rcParams['figure.figsize'] = (9, 6)"
   ]
  },
  {
   "cell_type": "markdown",
   "metadata": {},
   "source": [
    "## Functions"
   ]
  },
  {
   "cell_type": "code",
   "execution_count": null,
   "metadata": {},
   "outputs": [],
   "source": [
    "def get_performance(filename):\n",
    "    \"\"\"\n",
    "    Load IRF, use Gammapy capabilities to handle the miragtion matrix\n",
    "    \"\"\"\n",
    "    with fits.open(filename, memmap=False) as hdulist:\n",
    "        aeff = EffectiveAreaTable.from_hdulist(hdulist=hdulist).to_table()\n",
    "        bkg = Table.read(hdulist[\"BACKGROUND\"])\n",
    "        psf = Table.read(hdulist[\"POINT SPREAD FUNCTION\"])\n",
    "        sens = Table.read(hdulist[\"SENSITIVITY\"])\n",
    "        edisp = EnergyDispersion2D.read(filename, hdu=\"ENERGY DISPERSION\")\n",
    "        rmf = edisp.to_energy_dispersion(offset=0.5 * u.deg)  # Projection of migration matrix, dummy angle...\n",
    "\n",
    "        try:  # Collection area without score/angular cut\n",
    "            aeff_no_cuts = Table.read(hdulist[\"SPECRESP (NO CUTS)\"])\n",
    "            aeff_angular_cut = Table.read(hdulist[\"SPECRESP (WITH ANGULAR CUT)\"])\n",
    "            aeff_score_cut = Table.read(hdulist[\"SPECRESP (WITH SCORE CUT)\"])\n",
    "\n",
    "            aeff_no_cuts.columns['SPECRESP (NO CUTS)'].name = 'SPECRESP'\n",
    "            aeff_angular_cut[\"SPECRESP (WITH ANGULAR CUT)\"].name = 'SPECRESP'\n",
    "            aeff_score_cut[\"SPECRESP (WITH SCORE CUT)\"].name = 'SPECRESP'\n",
    "        except:\n",
    "            pass\n",
    "\n",
    "    # Collection area without score/angular cut, that will be used to contain the IRF\n",
    "    perf = dict(aeff= aeff, bkg= bkg, psf= psf, rmf=rmf, sens=sens, edisp=edisp)\n",
    "\n",
    "    try:\n",
    "        perf['aeff_no_cuts'] = aeff_no_cuts\n",
    "        perf['aeff_angular_cut'] = aeff_angular_cut\n",
    "        perf['aeff_score_cut'] = aeff_score_cut\n",
    "    except:\n",
    "        pass\n",
    "\n",
    "    return perf"
   ]
  },
  {
   "cell_type": "code",
   "execution_count": null,
   "metadata": {},
   "outputs": [],
   "source": [
    "def plot_table(t, colname, label, energy_range, **kwargs):\n",
    "    \"\"\"Simple function to plot an astropy table\"\"\"\n",
    "    centers = np.sqrt(t['ENERG_LO'] * t['ENERG_HI'])\n",
    "    bin_width = t['ENERG_HI'] - t['ENERG_LO']\n",
    "    err_plus = t['ENERG_HI'] - centers\n",
    "    err_minus = centers - t['ENERG_LO']\n",
    "    values = t[colname]\n",
    "\n",
    "    # Selection bins in the energy range\n",
    "    idx = np.where( (centers >= energy_range[0]) & (centers <= energy_range[-1]) )\n",
    "    plt.errorbar(centers[idx], values[idx], xerr=(err_minus[idx],err_plus[idx]), label=label, **kwargs)\n",
    "\n"
   ]
  },
  {
   "cell_type": "code",
   "execution_count": null,
   "metadata": {},
   "outputs": [],
   "source": [
    "def plot_energy_response(rmf, label, energy_range, **kwargs):\n",
    "    \"\"\"Simple function to plot the energy resolution (Gammapy)\"\"\"\n",
    "    energy = rmf.e_true.nodes\n",
    "    bias = rmf.get_bias(energy)\n",
    "    resol = rmf.get_resolution(energy)\n",
    "\n",
    "    idx = np.where( (energy.value >= energy_range[0]) & (energy.value <= energy_range[-1]) )\n",
    "\n",
    "    plt.errorbar(energy.value[idx], bias[idx], **kwargs, ls='--')\n",
    "    plt.errorbar(energy.value[idx], resol[idx], label=label, **kwargs, ls='-')"
   ]
  },
  {
   "cell_type": "markdown",
   "metadata": {
    "nbsphinx": "hidden"
   },
   "source": [
    "## Input data"
   ]
  },
  {
   "cell_type": "markdown",
   "metadata": {},
   "source": [
    "## Requirements"
   ]
  },
  {
   "cell_type": "code",
   "execution_count": null,
   "metadata": {},
   "outputs": [],
   "source": [
    "indir = '../../data/requirements'\n",
    "\n",
    "# Full array\n",
    "infiles = dict(\n",
    "    SENSITIVITY='/North-50h.dat',\n",
    "    ANGULAR_RESOLUTION='/North-50h-AngRes.dat',\n",
    "    ENERGY_RESOLUTION='/North-50h-ERes.dat',\n",
    "    #EFFECTIVE_AREA='North-50h-EffectiveArea.dat',\n",
    "    )\n",
    "requirements = dict()\n",
    "\n",
    "for key in infiles.keys():\n",
    "    requirements[key] = Table.read(indir + infiles[key], format='ascii')\n",
    "\n",
    "for key in infiles.keys():\n",
    "    requirements[key].add_column(Column(data=(10**requirements[key]['col1']), name='ENERGY'))\n",
    "    requirements[key].add_column(Column(data=requirements[key]['col2'], name=key))\n"
   ]
  },
  {
   "cell_type": "markdown",
   "metadata": {},
   "source": [
    "## MARS Performance"
   ]
  },
  {
   "cell_type": "code",
   "execution_count": null,
   "metadata": {},
   "outputs": [],
   "source": [
    "indir = '../../data/MARS_Analysis/point-like/LaPalma_20_South/'\n",
    "indir = os.path.expandvars(indir)\n",
    "\n",
    "filenames = {\n",
    "    '50h': 'CTA-Performance-North-20deg-S-onaxis-50h_20170627.fits.gz'\n",
    "}\n",
    "perf_mars_fullarray = dict()\n",
    "for key in filenames.keys():\n",
    "    perf_mars_fullarray[key] = get_performance(os.path.join(indir, filenames[key]))"
   ]
  },
  {
   "cell_type": "markdown",
   "metadata": {
    "nbsphinx": "hidden"
   },
   "source": [
    "## _pyirf_"
   ]
  },
  {
   "cell_type": "markdown",
   "metadata": {},
   "source": [
    "The following is the current IRF + sensititivy output FITS format provided by this software.\n",
    "\n",
    "Run `python examples/calculate_protopipe_irfs.py` after downloading the data"
   ]
  },
  {
   "cell_type": "code",
   "execution_count": null,
   "metadata": {},
   "outputs": [],
   "source": [
    "pyirf_file = '../../pyirf_protopipe.fits.gz'"
   ]
  },
  {
   "cell_type": "markdown",
   "metadata": {},
   "source": [
    "## Optimized cuts\n",
    "[back to top](#Table-of-contents)"
   ]
  },
  {
   "cell_type": "markdown",
   "metadata": {},
   "source": [
    "### Direction cut\n",
    "[back to top](#Table-of-contents)"
   ]
  },
  {
   "cell_type": "code",
   "execution_count": null,
   "metadata": {},
   "outputs": [],
   "source": [
    "from astropy.table import QTable\n",
    "\n",
    "\n",
    "rad_max = QTable.read(pyirf_file, hdu='RAD_MAX')[0]\n",
    "\n",
    "plt.errorbar(\n",
    "    0.5 * (rad_max['ENERG_LO'] + rad_max['ENERG_HI'])[1:-1].to_value(u.TeV),\n",
    "    rad_max['RAD_MAX'].T[1:-1, 0].to_value(u.deg),\n",
    "    xerr=0.5 * (rad_max['ENERG_HI'] - rad_max['ENERG_LO'])[1:-1].to_value(u.TeV),\n",
    "    ls='',\n",
    "    label='pyirf',\n",
    ")\n",
    "\n",
    "plt.legend()\n",
    "plt.ylabel('θ-cut / deg²')\n",
    "plt.xlabel(r'$E_\\mathrm{reco} / \\mathrm{TeV}$')\n",
    "plt.xscale('log')\n",
    "\n",
    "None # to remove clutter by mpl objects"
   ]
  },
  {
   "cell_type": "code",
   "execution_count": null,
   "metadata": {},
   "outputs": [],
   "source": [
    "from astropy.table import QTable\n",
    "\n",
    "\n",
    "gh_cut = QTable.read(pyirf_file, hdu='GH_CUTS')[1:-1]\n",
    "\n",
    "\n",
    "plt.errorbar(\n",
    "    0.5 * (gh_cut['low'] + gh_cut['high']).to_value(u.TeV),\n",
    "    gh_cut['cut'],\n",
    "    xerr=0.5 * (gh_cut['high'] - gh_cut['low']).to_value(u.TeV),\n",
    "    ls='',\n",
    "    label='pyirf',\n",
    ")\n",
    "\n",
    "plt.legend()\n",
    "plt.ylabel('G/H-cut')\n",
    "plt.xlabel(r'$E_\\mathrm{reco} / \\mathrm{TeV}$')\n",
    "plt.xscale('log')\n",
    "\n",
    "None # to remove clutter by mpl objects"
   ]
  },
  {
   "cell_type": "markdown",
   "metadata": {},
   "source": [
    "## Differential sensitivity from cuts optimization\n",
    "[back to top](#Table-of-contents)"
   ]
  },
  {
   "cell_type": "code",
   "execution_count": null,
   "metadata": {},
   "outputs": [],
   "source": [
    "# [1:-1] removes under/overflow bins\n",
    "sensitivity = QTable.read(pyirf_file, hdu='SENSITIVITY')[1:-1]\n",
    "\n",
    "# make it print nice\n",
    "sensitivity['reco_energy_low'].info.format = '.3g'\n",
    "sensitivity['reco_energy_high'].info.format = '.3g'\n",
    "sensitivity['reco_energy_center'].info.format = '.3g'\n",
    "sensitivity['n_signal'].info.format = '.1f'\n",
    "sensitivity['n_signal_weighted'].info.format = '.1f'\n",
    "sensitivity['n_background_weighted'].info.format = '.1f'\n",
    "sensitivity['n_background'].info.format = '.1f'\n",
    "sensitivity['relative_sensitivity'].info.format = '.2g'\n",
    "sensitivity['flux_sensitivity'].info.format = '.3g'\n",
    "\n",
    "\n",
    "sensitivity"
   ]
  },
  {
   "cell_type": "code",
   "execution_count": null,
   "metadata": {},
   "outputs": [],
   "source": [
    "plt.figure(figsize=(12,8))\n",
    "\n",
    "# pyirf\n",
    "unit = u.Unit('erg cm-2 s-1')\n",
    "e = sensitivity['reco_energy_center']\n",
    "s = (e**2 * sensitivity['flux_sensitivity'])\n",
    "w = (sensitivity['reco_energy_high'] - sensitivity['reco_energy_low'])\n",
    "plt.errorbar(\n",
    "    e.to_value(u.TeV),\n",
    "    s.to_value(unit),\n",
    "    xerr=w.to_value(u.TeV) / 2,\n",
    "    ls='',\n",
    "    label='pyirf'\n",
    ")\n",
    "\n",
    "# Requirements\n",
    "plt.plot(requirements['SENSITIVITY']['ENERGY'],\n",
    "             requirements['SENSITIVITY']['SENSITIVITY'],\n",
    "             color='black',\n",
    "             ls='--',\n",
    "             lw=2,\n",
    "             label='Requirements')\n",
    "\n",
    "# Style settings\n",
    "plt.title('Minimal Flux Needed for 5σ Detection in 50 hours')\n",
    "plt.xscale(\"log\")\n",
    "plt.yscale(\"log\")\n",
    "plt.ylabel(rf\"$(E^2 \\cdot \\mathrm{{Flux Sensitivity}}) /$ ({unit.to_string('latex')})\")\n",
    "\n",
    "plt.grid(which=\"both\")\n",
    "plt.legend()\n",
    "\n",
    "None # to remove clutter by mpl objects"
   ]
  },
  {
   "cell_type": "markdown",
   "metadata": {},
   "source": [
    "## IRFs\n",
    "[back to top](#Table-of-contents)"
   ]
  },
  {
   "cell_type": "markdown",
   "metadata": {},
   "source": [
    "### Effective area\n",
    "[back to top](#Table-of-contents)"
   ]
  },
  {
   "cell_type": "code",
   "execution_count": null,
   "metadata": {},
   "outputs": [],
   "source": [
    "# Data pyirf\n",
    "for name in ('', '_NO_CUTS', '_ONLY_GH', '_ONLY_THETA'):\n",
    "\n",
    "    area = QTable.read(pyirf_file, hdu='EFFECTIVE_AREA' + name)[0]\n",
    "\n",
    "    \n",
    "    plt.errorbar(\n",
    "        0.5 * (area['ENERG_LO'] + area['ENERG_HI']).to_value(u.TeV)[1:-1],\n",
    "        area['EFFAREA'].to_value(u.m**2).T[1:-1, 0],\n",
    "        xerr=0.5 * (area['ENERG_LO'] - area['ENERG_HI']).to_value(u.TeV)[1:-1],\n",
    "        ls='',\n",
    "        label='pyirf ' + name,\n",
    "    )\n",
    "\n",
    "# Reference data: MARS\n",
    "plot_table(\n",
    "    perf_mars_fullarray['50h']['aeff'], \n",
    "    'SPECRESP', label='MARS', \n",
    "    energy_range =[0.01, 51.], \n",
    "    **{'color': 'darkblue', 'lw': 2})\n",
    "\n",
    "# Style settings\n",
    "plt.xscale(\"log\")\n",
    "plt.yscale(\"log\")\n",
    "plt.xlabel(\"True energy / TeV\")\n",
    "plt.ylabel(\"Effective collection area / m²\")\n",
    "plt.grid(which=\"both\")\n",
    "plt.legend()\n",
    "\n",
    "None # to remove clutter by mpl objects"
   ]
  },
  {
   "cell_type": "markdown",
   "metadata": {},
   "source": [
    "### Point Spread Function\n",
    "[back to top](#Table-of-contents)"
   ]
  },
  {
   "cell_type": "code",
   "execution_count": null,
   "metadata": {},
   "outputs": [],
   "source": [
    "psf_table"
   ]
  },
  {
   "cell_type": "code",
   "execution_count": null,
   "metadata": {},
   "outputs": [],
   "source": [
    "psf_table = QTable.read(pyirf_file, hdu='PSF')[0]\n",
    "# select the only fov offset bin\n",
    "psf = psf_table['RPSF'].T[:, 0, :].to_value(1 / u.sr)\n",
    "\n",
    "offset_bins = np.append(psf_table['RAD_LO'], psf_table['RAD_HI'][-1])\n",
    "phi_bins = np.linspace(0, 2 * np.pi, 100)\n",
    "\n",
    "\n",
    "\n",
    "# Let's make a nice 2d representation of the radially symmetric PSF\n",
    "r, phi = np.meshgrid(offset_bins.to_value(u.deg), phi_bins)\n",
    "\n",
    "# look at a single energy bin\n",
    "# repeat values for each phi bin\n",
    "center = 0.5 * (psf_table['ENERG_LO'] + psf_table['ENERG_HI'])\n",
    "\n",
    "\n",
    "fig = plt.figure(figsize=(15, 5))\n",
    "axs = [fig.add_subplot(1, 3, i, projection='polar') for i in range(1, 4)]\n",
    "\n",
    "\n",
    "for bin_id, ax in zip([10, 20, 30], axs):\n",
    "    image = np.tile(psf[bin_id], (len(phi_bins) - 1, 1))\n",
    "    \n",
    "    ax.set_title(f'PSF @ {center[bin_id]:.2f} TeV')\n",
    "    ax.pcolormesh(phi, r, image)\n",
    "    ax.set_ylim(0, 0.25)\n",
    "    ax.set_aspect(1)\n",
    "    \n",
    "fig.tight_layout()\n",
    "\n",
    "None # to remove clutter by mpl objects"
   ]
  },
  {
   "cell_type": "code",
   "execution_count": null,
   "metadata": {},
   "outputs": [],
   "source": [
    "# Profile\n",
    "center = 0.5 * (offset_bins[1:] + offset_bins[:-1])\n",
    "xerr = 0.5 * (offset_bins[1:] - offset_bins[:-1])\n",
    "\n",
    "for bin_id in [10, 20, 30]:\n",
    "    plt.errorbar(\n",
    "        center.to_value(u.deg),\n",
    "        psf[bin_id],\n",
    "        xerr=xerr.to_value(u.deg),\n",
    "        ls='',\n",
    "        label=f'Energy Bin {bin_id}'\n",
    "    )\n",
    "    \n",
    "#plt.yscale('log')\n",
    "plt.legend()\n",
    "plt.xlim(0, 0.25)\n",
    "plt.ylabel('PSF PDF / sr⁻¹')\n",
    "plt.xlabel('Distance from True Source / deg')\n",
    "\n",
    "None # to remove clutter by mpl objects"
   ]
  },
  {
   "cell_type": "markdown",
   "metadata": {},
   "source": [
    "#### Angular resolution\n",
    "[back to top](#Table-of-contents)"
   ]
  },
  {
   "cell_type": "code",
   "execution_count": null,
   "metadata": {},
   "outputs": [],
   "source": [
    "# pyirf\n",
    "ang_res = QTable.read(pyirf_file, hdu='ANGULAR_RESOLUTION')[1:-1]\n",
    "\n",
    "plt.errorbar(\n",
    "    0.5 * (ang_res['true_energy_low'] + ang_res['true_energy_high']).to_value(u.TeV),\n",
    "    ang_res['angular_resolution'].to_value(u.deg),\n",
    "    xerr=0.5 * (ang_res['true_energy_high'] - ang_res['true_energy_low']).to_value(u.TeV),\n",
    "    ls='',\n",
    "    label='pyirf'\n",
    ")\n",
    "\n",
    "# Style settings\n",
    "plt.xlim(1.e-2, 2.e2)\n",
    "plt.ylim(2.e-2, 1)\n",
    "plt.xscale(\"log\")\n",
    "plt.yscale(\"log\")\n",
    "plt.xlabel(\"True energy / TeV\")\n",
    "plt.ylabel(\"Angular Resolution / deg\")\n",
    "plt.grid(which=\"both\")\n",
    "plt.legend(loc=\"best\")\n",
    "\n",
    "None # to remove clutter by mpl objects"
   ]
  },
  {
   "cell_type": "code",
   "execution_count": null,
   "metadata": {},
   "outputs": [],
   "source": [
    "# pyirf\n",
    "# Vorrei la PSF i funzione dell'energia ricostruita\n",
    "ang_res = QTable.read(pyirf_file, hdu='ANGULAR_RESOLUTION')[1:-1]\n",
    "\n",
    "plt.errorbar(\n",
    "    0.5 * (ang_res['true_energy_low'] + ang_res['true_energy_high']).to_value(u.TeV),\n",
    "    ang_res['angular_resolution'].to_value(u.deg),\n",
    "    xerr=0.5 * (ang_res['true_energy_high'] - ang_res['true_energy_low']).to_value(u.TeV),\n",
    "    ls='',\n",
    "    label='pyirf'\n",
    ")\n",
    "\n",
    "# Reference data: MARS\n",
    "plot_table(\n",
    "    perf_mars_fullarray['50h']['psf'], \n",
    "    'PSF68', label='MARS', \n",
    "    energy_range =[0.01, 51.], \n",
    "    **{'color': 'darkblue', 'lw': 2})\n",
    "\n",
    "\n",
    "# Requirements\n",
    "plt.plot(requirements['ANGULAR_RESOLUTION']['ENERGY'],\n",
    "             requirements['ANGULAR_RESOLUTION']['ANGULAR_RESOLUTION'],\n",
    "             color='black',\n",
    "             ls='--',\n",
    "             lw=2,\n",
    "             label='Requirements')\n",
    "\n",
    "\n",
    "\n",
    "# Style settings\n",
    "plt.xlim(1.e-2, 2.e2)\n",
    "plt.ylim(2.e-2, 1)\n",
    "plt.xscale(\"log\")\n",
    "plt.yscale(\"log\")\n",
    "plt.xlabel(\"True energy / TeV\")\n",
    "plt.ylabel(\"Angular Resolution / deg\")\n",
    "plt.grid(which=\"both\")\n",
    "plt.legend(loc=\"best\")\n",
    "\n",
    "\n",
    "\n",
    "None # to remove clutter by mpl objects"
   ]
  },
  {
   "cell_type": "markdown",
   "metadata": {},
   "source": [
    "### Energy dispersion\n",
    "[back to top](#Table-of-contents)"
   ]
  },
  {
   "cell_type": "code",
   "execution_count": null,
   "metadata": {},
   "outputs": [],
   "source": [
    "edisp = QTable.read(pyirf_file, hdu='ENERGY_DISPERSION')[0]\n",
    "\n",
    "e_bins = edisp['ENERG_LO'][1:]\n",
    "migra_bins = edisp['MIGRA_LO'][1:]\n",
    "\n",
    "plt.title('pyirf')\n",
    "plt.pcolormesh(e_bins.to_value(u.TeV), migra_bins, edisp['MATRIX'].T[1:-1, 1:-1, 0].T, cmap='inferno')\n",
    "\n",
    "plt.xscale('log')\n",
    "plt.yscale('log')\n",
    "plt.colorbar(label='PDF Value')\n",
    "\n",
    "plt.xlabel(r'$E_\\mathrm{True} / \\mathrm{TeV}$')\n",
    "plt.ylabel(r'$E_\\mathrm{Reco} / E_\\mathrm{True}$')\n",
    "\n",
    "None # to remove clutter by mpl objects"
   ]
  },
  {
   "cell_type": "markdown",
   "metadata": {},
   "source": [
    "#### Energy resolution\n",
    "[back to top](#Table-of-contents)"
   ]
  },
  {
   "cell_type": "code",
   "execution_count": null,
   "metadata": {},
   "outputs": [],
   "source": [
    "perf_mars_fullarray['50h']['edisp']"
   ]
  },
  {
   "cell_type": "code",
   "execution_count": null,
   "metadata": {},
   "outputs": [],
   "source": [
    "# pyirf\n",
    "bias_resolution = QTable.read(pyirf_file, hdu='ENERGY_BIAS_RESOLUTION')[1:-1]\n",
    "\n",
    "plt.errorbar(\n",
    "    0.5 * (bias_resolution['true_energy_low'] + bias_resolution['true_energy_high']).to_value(u.TeV),\n",
    "    bias_resolution['resolution'],\n",
    "    xerr=0.5 * (bias_resolution['true_energy_high'] - bias_resolution['true_energy_low']).to_value(u.TeV),\n",
    "    ls='',\n",
    "    label='pyirf'\n",
    ")\n",
    "plt.xscale('log')\n",
    "\n",
    "# Requirements\n",
    "plt.plot(requirements['ENERGY_RESOLUTION']['ENERGY'],\n",
    "             requirements['ENERGY_RESOLUTION']['ENERGY_RESOLUTION'],\n",
    "             color='black',\n",
    "             ls='--',\n",
    "             lw=2,\n",
    "             label='Requirements')\n",
    "\n",
    "# Reference data: MARS\n",
    "plot_energy_response(\n",
    "    perf_mars_fullarray['50h']['rmf'], \n",
    "    label='MARS', \n",
    "    energy_range =[0.01, 51.], \n",
    "    **{'color': 'darkblue', 'lw': 2})\n",
    "\n",
    "# Style settings\n",
    "plt.xlabel(r\"$E_\\mathrm{True} / \\mathrm{TeV}$\")\n",
    "plt.ylabel(\"Energy resolution\")\n",
    "plt.grid(which=\"both\")\n",
    "plt.legend(loc=\"best\")\n",
    "\n",
    "None # to remove clutter by mpl objects"
   ]
  },
  {
   "cell_type": "markdown",
   "metadata": {},
   "source": [
    "### Background rate\n",
    "[back to top](#Table-of-contents)"
   ]
  },
  {
   "cell_type": "code",
   "execution_count": null,
   "metadata": {},
   "outputs": [],
   "source": [
    "from pyirf.utils import cone_solid_angle\n",
    "\n",
    "# pyirf data\n",
    "bg_rate = QTable.read(pyirf_file, hdu='BACKGROUND')[0]\n",
    "\n",
    "reco_bins = np.append(bg_rate['ENERG_LO'], bg_rate['ENERG_HI'][-1])\n",
    "\n",
    "# first fov bin, [0, 1] deg\n",
    "fov_bin = 0\n",
    "rate_bin = bg_rate['BKG'].T[:, fov_bin]\n",
    "\n",
    "# interpolate theta cut for given e reco bin\n",
    "e_center_bg = 0.5 * (bg_rate['ENERG_LO'] + bg_rate['ENERG_HI'])\n",
    "e_center_theta = 0.5 * (rad_max['ENERG_LO'] + rad_max['ENERG_HI'])\n",
    "theta_cut = np.interp(e_center_bg, e_center_theta, rad_max['RAD_MAX'].T[:, 0])\n",
    "\n",
    "# undo normalization\n",
    "rate_bin *= cone_solid_angle(theta_cut)\n",
    "rate_bin *= np.diff(reco_bins)\n",
    "\n",
    "\n",
    "# Plot function\n",
    "plt.errorbar(x, y, xerr=xerr, yerr=yerr, ls='', label=\"EventDisplay\")\n",
    "plt.errorbar(\n",
    "    0.5 * (bg_rate['ENERG_LO'] + bg_rate['ENERG_HI']).to_value(u.TeV)[1:-1],\n",
    "    rate_bin.to_value(1 / u.s)[1:-1],\n",
    "    xerr=np.diff(reco_bins).to_value(u.TeV)[1:-1] / 2,\n",
    "    ls='',\n",
    "    label='pyirf',\n",
    ")\n",
    "\n",
    "# Reference data: MARS\n",
    "plot_table(\n",
    "    perf_mars_fullarray['50h']['bkg'], \n",
    "    'BGD', \n",
    "    label='MARS', \n",
    "    energy_range =[0.01, 51.], \n",
    "    **{'color': 'darkblue', 'lw': 2})\n",
    "\n",
    "# Style settings\n",
    "plt.xscale(\"log\")\n",
    "plt.xlabel(r\"$E_\\mathrm{Reco} / \\mathrm{TeV}$\")\n",
    "plt.ylabel(\"Background rate / (s⁻¹ TeV⁻¹) \")\n",
    "plt.grid(which=\"both\")\n",
    "plt.legend(loc=\"best\")\n",
    "plt.yscale('log')\n",
    "\n",
    "None # to remove clutter by mpl objects"
   ]
  },
  {
   "cell_type": "code",
   "execution_count": null,
   "metadata": {},
   "outputs": [],
   "source": [
    "import sys \n",
    "  \n",
    "# printing all directories for  \n",
    "# interpreter to search \n",
    "sys.path"
   ]
  },
  {
   "cell_type": "code",
   "execution_count": null,
   "metadata": {},
   "outputs": [],
   "source": []
  }
 ],
 "metadata": {
  "kernelspec": {
   "display_name": "Python 3",
   "language": "python",
   "name": "python3"
  },
  "language_info": {
   "codemirror_mode": {
    "name": "ipython",
    "version": 3
   },
   "file_extension": ".py",
   "mimetype": "text/x-python",
   "name": "python",
   "nbconvert_exporter": "python",
   "pygments_lexer": "ipython3",
   "version": "3.7.9"
  }
 },
 "nbformat": 4,
 "nbformat_minor": 4
}
